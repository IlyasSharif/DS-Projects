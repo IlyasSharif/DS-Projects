{
 "cells": [
  {
   "cell_type": "code",
   "execution_count": 1,
   "metadata": {},
   "outputs": [],
   "source": [
    "# Monty Hall Problem\n",
    "import numpy as np\n",
    "import random\n",
    "# Generating doors\n",
    "def gen_doors():\n",
    "    doors = {1:'G', 2:'G', 3:'G'}\n",
    "    index = np.random.randint(1,4)\n",
    "    doors[index] = 'C'\n",
    "    return doors\n",
    "\n",
    "# Host chooses door with a goat\n",
    "def host(doors, init_choice):\n",
    "    index = 1 \n",
    "    stopper = True\n",
    "    \n",
    "    # Chose a car\n",
    "    if doors[init_choice] == 'C':\n",
    "        while stopper:\n",
    "            if index == init_choice:\n",
    "                index += 1\n",
    "                stopper = False\n",
    "            else:\n",
    "                stopper = False\n",
    "                \n",
    "\n",
    "    # Didn't choose car\n",
    "    if doors[init_choice] == 'G':\n",
    "        while stopper:\n",
    "            if index != init_choice and doors[index] != 'C':\n",
    "                stopper = False\n",
    "            else:\n",
    "                index +=1\n",
    "            \n",
    "    return index\n",
    "\n",
    "# You choose whether to switch or not, given what the host said and your initial choice\n",
    "def switch(init_choice, host, swap):\n",
    "    doors = {1:'1', 2:'2', 3:'3'}\n",
    "    del doors[init_choice]\n",
    "    del doors[host]\n",
    "    if swap:\n",
    "        return list(doors.keys())[0]\n",
    "    else:\n",
    "        return init_choice\n",
    "    \n",
    "# Automated Running the game\n",
    "def Game(Choice, Swap):\n",
    "    init_choice = Choice\n",
    "    doors = gen_doors()\n",
    "    host_choice = host(doors, init_choice)\n",
    "    swap = Swap\n",
    "    final_choice = switch(init_choice, host_choice, swap)\n",
    "    return doors[final_choice] == 'C'"
   ]
  },
  {
   "cell_type": "code",
   "execution_count": 2,
   "metadata": {},
   "outputs": [],
   "source": [
    "# Running the game 1000 times without swapping and checking how many times i won\n",
    "won_NOSWAP = 0\n",
    "for i in range(1000):\n",
    "    if Game(np.random.randint(1,4), False) == True:\n",
    "        won_NOSWAP += 1"
   ]
  },
  {
   "cell_type": "code",
   "execution_count": 3,
   "metadata": {},
   "outputs": [],
   "source": [
    "# Running the game 1000 times with swapping and checking how many times i won\n",
    "won_SWAP = 0\n",
    "for i in range(1000):\n",
    "    if Game(np.random.randint(1,4), True) == True:\n",
    "        won_SWAP += 1"
   ]
  },
  {
   "cell_type": "code",
   "execution_count": 4,
   "metadata": {},
   "outputs": [
    {
     "name": "stdout",
     "output_type": "stream",
     "text": [
      "317 667\n"
     ]
    }
   ],
   "source": [
    "print(won_NOSWAP, won_SWAP)"
   ]
  },
  {
   "cell_type": "markdown",
   "metadata": {},
   "source": [
    "As we can see, we arrived at the expected 1/3 and 2/3 outcomes. \n",
    "Therefore, if you're ever in a Monty Hall scenario, switch doors."
   ]
  },
  {
   "cell_type": "markdown",
   "metadata": {},
   "source": [
    "Is deal or no deal a Monty Hall scenario? No. This is because in deal or no deal, no one knows what is in each case, and each case is elimnated randomly. But lets see this in a simulation as well.\n",
    "\n",
    "To prove this, I'm going to simulate a game of deal or no deal, and run it 2000 times. Half the times, i will switch the final case and the other half, I will not switch the case at the end. I will then calculated how much money is won over these two cases and show that they are within reasonable ranges of one another. This is not the best case, as realistically, your final choice would be and should be influenced by other factors of the game (i.e., banker offers). But this is simply to determine the effects of swapping the last case."
   ]
  },
  {
   "cell_type": "code",
   "execution_count": 19,
   "metadata": {},
   "outputs": [],
   "source": [
    "# Generating 26 cases (labelled 1 to 26)\n",
    "def gen_cases():\n",
    "    cases = {}\n",
    "    values = [0.01, 1, 5, 10, 25, 50, 75, 100, 200, 300, 400,\n",
    "             500, 750, 1000, 5000, 10000, 25000, 50000, 75000,\n",
    "             100000, 200000, 300000, 400000, 500000, 750000, 1000000]\n",
    "    for i in range(1,len(values)+1):\n",
    "        random_val = random.choice(values)\n",
    "        cases[i] = random_val\n",
    "        values.remove(random_val)\n",
    "    return cases\n",
    "\n",
    "# Choosing first case from the 26 (choice must be int from 1 to 26)\n",
    "def choose_init_case(cases, choice):\n",
    "    case = cases[choice]\n",
    "    del cases[choice]\n",
    "    return {choice: case}\n",
    "\n",
    "# Randomly removing 24 cases of the remaining 25\n",
    "def choose_24_cases(cases):\n",
    "    keys = list(cases.keys())\n",
    "    for i in range(24):\n",
    "        random_val = random.choice(keys)\n",
    "        keys.remove(random_val)\n",
    "        del cases[random_val]\n",
    "    return\n",
    "\n",
    "def DealorNoDeal(init_choice, Swap):\n",
    "    cases = gen_cases()\n",
    "\n",
    "    player_case = choose_init_case(cases, init_choice)\n",
    "\n",
    "    choose_24_cases(cases)\n",
    "\n",
    "    if Swap:\n",
    "        return cases\n",
    "    else:\n",
    "        return player_case\n"
   ]
  },
  {
   "cell_type": "code",
   "execution_count": 20,
   "metadata": {},
   "outputs": [],
   "source": [
    "# Running the game 10000 times without swapping and checking how much i won\n",
    "won_NOSWAP = 0\n",
    "for i in range(10000):\n",
    "    won_NOSWAP += list(DealorNoDeal(np.random.randint(1,27), False).values())[0]\n",
    "    "
   ]
  },
  {
   "cell_type": "code",
   "execution_count": 21,
   "metadata": {},
   "outputs": [],
   "source": [
    "# Running the game 10000 times with swapping and checking how much i won\n",
    "won_SWAP = 0\n",
    "for i in range(10000):\n",
    "    won_SWAP += list(DealorNoDeal(np.random.randint(1,27), True).values())[0]\n",
    "    "
   ]
  },
  {
   "cell_type": "code",
   "execution_count": 22,
   "metadata": {},
   "outputs": [
    {
     "name": "stdout",
     "output_type": "stream",
     "text": [
      "131915 130674\n"
     ]
    }
   ],
   "source": [
    "print(round(won_NOSWAP/10000) , round(won_SWAP/10000))"
   ]
  },
  {
   "cell_type": "markdown",
   "metadata": {},
   "source": [
    "As we can see, it really doesn't matter if you swap or not in deal or no deal."
   ]
  }
 ],
 "metadata": {
  "kernelspec": {
   "display_name": "Python 3 (ipykernel)",
   "language": "python",
   "name": "python3"
  },
  "language_info": {
   "codemirror_mode": {
    "name": "ipython",
    "version": 3
   },
   "file_extension": ".py",
   "mimetype": "text/x-python",
   "name": "python",
   "nbconvert_exporter": "python",
   "pygments_lexer": "ipython3",
   "version": "3.11.5"
  }
 },
 "nbformat": 4,
 "nbformat_minor": 4
}
